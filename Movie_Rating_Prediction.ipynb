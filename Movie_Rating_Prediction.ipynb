{
 "cells": [
  {
   "cell_type": "code",
   "execution_count": null,
   "id": "6b7fd41b-5615-45e1-9c5c-762f0829ce1b",
   "metadata": {},
   "outputs": [],
   "source": [
    "import pandas as pd\n",
    "import numpy as np\n",
    "from sklearn.model_selection import train_test_split\n",
    "from sklearn.preprocessing import StandardScaler, OneHotEncoder\n",
    "from sklearn.compose import ColumnTransformer\n",
    "from sklearn.pipeline import Pipeline\n",
    "from sklearn.impute import SimpleImputer\n",
    "from sklearn.ensemble import RandomForestRegressor\n",
    "from sklearn.metrics import mean_squared_error, r2_score\n",
    "import matplotlib.pyplot as plt\n",
    "import seaborn as sns\n",
    "%matplotlib inline"
   ]
  },
  {
   "cell_type": "code",
   "execution_count": null,
   "id": "a0e6fdec-3cea-48f6-bf0e-f1652569e079",
   "metadata": {},
   "outputs": [],
   "source": [
    "df = pd.read_csv('movies.csv')\n",
    "print(\"Data Loaded Successfully!\")\n",
    "df.head()"
   ]
  },
  {
   "cell_type": "code",
   "execution_count": null,
   "id": "3b016c5c-6285-4399-a35c-03a709fd3002",
   "metadata": {},
   "outputs": [],
   "source": [
    "print(\"\\nDataset Info:\")\n",
    "(df.info())"
   ]
  },
  {
   "cell_type": "code",
   "execution_count": null,
   "id": "6d60dc1a-054d-49f5-9422-8817ffc8d99d",
   "metadata": {},
   "outputs": [],
   "source": [
    "df.shape"
   ]
  },
  {
   "cell_type": "code",
   "execution_count": null,
   "id": "0e36f17f-1b50-4cac-9ac0-a42416387223",
   "metadata": {},
   "outputs": [],
   "source": [
    "print(\"\\nStatistical Summary:\")\n",
    "(df.describe())"
   ]
  },
  {
   "cell_type": "code",
   "execution_count": null,
   "id": "3a574384-4207-4651-8d70-f12815c7a43c",
   "metadata": {},
   "outputs": [],
   "source": [
    "print(\"\\nOverall Statistics About The DataFrame\")\n",
    "df.describe(include='all')"
   ]
  },
  {
   "cell_type": "code",
   "execution_count": null,
   "id": "5dec2c75-913b-4463-a4fc-aef1a6e77147",
   "metadata": {},
   "outputs": [],
   "source": [
    "df.columns"
   ]
  },
  {
   "cell_type": "code",
   "execution_count": null,
   "id": "652e6e2f-150f-484c-99a9-5e8400b31a1d",
   "metadata": {},
   "outputs": [],
   "source": [
    "print(\"\\nTitles of Movies Having Runtime Greater Than or Equal to 180 Minutes\")\n",
    "df[df['Runtime (Minutes)']>=180]['Title']"
   ]
  },
  {
   "cell_type": "code",
   "execution_count": null,
   "id": "77a7dd94-5bf2-445c-a2af-040150aeb351",
   "metadata": {},
   "outputs": [],
   "source": [
    "df.columns"
   ]
  },
  {
   "cell_type": "code",
   "execution_count": null,
   "id": "3bd32e42-0496-468f-9aa1-31a2e0101660",
   "metadata": {},
   "outputs": [],
   "source": [
    "print(\"\\nYear With The Highest Average Voting\")\n",
    "df.groupby('Year')['Votes'].mean().sort_values(ascending=False)"
   ]
  },
  {
   "cell_type": "code",
   "execution_count": null,
   "id": "2f6bca7e-24e6-4c33-8001-ec36df1dcdab",
   "metadata": {},
   "outputs": [],
   "source": [
    "print(\"\\nYear With The Highest Average Voting\")\n",
    "sns.barplot(x='Year',y='Votes',data=df)\n",
    "plt.show()"
   ]
  },
  {
   "cell_type": "code",
   "execution_count": null,
   "id": "253b922c-ce7b-49e7-bb28-b8f043b8fb14",
   "metadata": {},
   "outputs": [],
   "source": [
    "print(\"\\nYear With The Highest Average Revenue\")\n",
    "df.groupby('Year')['Revenue (Millions)'].mean().sort_values(ascending=False)"
   ]
  },
  {
   "cell_type": "code",
   "execution_count": null,
   "id": "a6efcac2-d09b-49ea-9382-05dea31ef33c",
   "metadata": {},
   "outputs": [],
   "source": [
    "print(\"\\nYear With The Highest Average Voting\")\n",
    "sns.barplot(x='Year',y='Revenue (Millions)',data=df)\n",
    "plt.show()"
   ]
  },
  {
   "cell_type": "code",
   "execution_count": null,
   "id": "27f06a72-1e5a-43f4-a123-56d9b4aca28c",
   "metadata": {},
   "outputs": [],
   "source": [
    "print(\"\\nYear With The Highest Average Revenue\")\n",
    "df.groupby('Year')['Revenue (Millions)'].mean().idxmax()"
   ]
  },
  {
   "cell_type": "code",
   "execution_count": null,
   "id": "357cbf67-f95f-4232-a45d-ed3a742e9999",
   "metadata": {},
   "outputs": [],
   "source": [
    "plt.figure(figsize=(10, 6))\n",
    "sns.barplot(x='Year', y='Revenue (Millions)', data=df.groupby('Year')['Revenue (Millions)'].mean().reset_index())\n",
    "plt.title('Year With The Highest Average Revenue')\n",
    "plt.xlabel('Year')\n",
    "plt.ylabel('Average Revenue (Millions)')\n",
    "plt.xticks(rotation=90)\n",
    "plt.show()"
   ]
  },
  {
   "cell_type": "code",
   "execution_count": null,
   "id": "150a1add-c011-45de-8f10-007b7d36c8a2",
   "metadata": {},
   "outputs": [],
   "source": [
    "print(\"\\nAverage Rating For Each Director\")\n",
    "df.groupby('Director')['Rating'].mean()"
   ]
  },
  {
   "cell_type": "code",
   "execution_count": null,
   "id": "578fee0a-8524-4b5e-96d1-3510bacca14f",
   "metadata": {},
   "outputs": [],
   "source": [
    "print(\"\\nTop 10 Lengthy Movies Titles and Runtimes\")\n",
    "df.nlargest(10, 'Runtime (Minutes)')[['Title', 'Runtime (Minutes)']]"
   ]
  },
  {
   "cell_type": "code",
   "execution_count": null,
   "id": "e54da07a-6497-47c0-94cb-bbaa729a9e2e",
   "metadata": {},
   "outputs": [],
   "source": [
    "plt.figure(figsize=(10, 6))\n",
    "sns.barplot(x='Runtime (Minutes)', y='Title', data=df.nlargest(10, 'Runtime (Minutes)'))\n",
    "plt.title('Top 10 Lengthy Movies')\n",
    "plt.xlabel('Runtime (Minutes)')\n",
    "plt.ylabel('Movie Title')\n",
    "plt.show()"
   ]
  },
  {
   "cell_type": "code",
   "execution_count": null,
   "id": "9bf7def6-3b59-405d-a953-4a29e0e739a6",
   "metadata": {},
   "outputs": [],
   "source": [
    "print(\"\\nNumber of Movies Per Year\")\n",
    "df['Year'].value_counts()"
   ]
  },
  {
   "cell_type": "code",
   "execution_count": null,
   "id": "cafe9713-5895-4f61-b574-05eb38c91b3a",
   "metadata": {},
   "outputs": [],
   "source": [
    "plt.figure(figsize=(10, 6))\n",
    "sns.countplot(x='Year', data=df)\n",
    "plt.title('Number of Movies Per Year')\n",
    "plt.xlabel('Year')\n",
    "plt.ylabel('Number of Movies')\n",
    "plt.xticks(rotation=90)\n",
    "plt.show()"
   ]
  },
  {
   "cell_type": "code",
   "execution_count": null,
   "id": "33db30ce-bccb-4ac6-bed0-bad484221f8c",
   "metadata": {},
   "outputs": [],
   "source": [
    "print(\"\\nMost Popular Movie Title (Highest Revenue)\")\n",
    "df[df['Revenue (Millions)'] == df['Revenue (Millions)'].max()]['Title']"
   ]
  },
  {
   "cell_type": "code",
   "execution_count": null,
   "id": "7679e52c-2d15-4bc7-b71c-30890aeffe10",
   "metadata": {},
   "outputs": [],
   "source": [
    "print(\"\\nTop 10 Highest Rated Movie Titles And Their Directors\")\n",
    "df.nlargest(10, 'Rating')[['Title', 'Director', 'Rating']]"
   ]
  },
  {
   "cell_type": "code",
   "execution_count": null,
   "id": "104314fd-d9ec-4fcb-b810-b7d09500bdd0",
   "metadata": {},
   "outputs": [],
   "source": [
    "plt.figure(figsize=(10, 6))\n",
    "sns.barplot(x='Rating', y='Title', data=df.nlargest(10, 'Rating'))\n",
    "plt.title('Top 10 Highest Rated Movies')\n",
    "plt.xlabel('Rating')\n",
    "plt.ylabel('Movie Title')\n",
    "plt.show()"
   ]
  },
  {
   "cell_type": "code",
   "execution_count": null,
   "id": "ab687d3e-946d-4a4e-b135-67f0e5b1043b",
   "metadata": {},
   "outputs": [],
   "source": [
    "print(\"\\nAverage Rating of Movies Year Wise\")\n",
    "df.groupby('Year')['Rating'].mean()"
   ]
  },
  {
   "cell_type": "code",
   "execution_count": null,
   "id": "8c394b32-aabf-4d78-b10a-1c64a67763ab",
   "metadata": {},
   "outputs": [],
   "source": [
    "plt.figure(figsize=(10, 6))\n",
    "sns.lineplot(x='Year', y='Rating', data=df.groupby('Year')['Rating'].mean().reset_index())\n",
    "plt.title('Average Rating of Movies Year Wise')\n",
    "plt.xlabel('Year')\n",
    "plt.ylabel('Average Rating')\n",
    "plt.xticks(rotation=90)\n",
    "plt.show()"
   ]
  },
  {
   "cell_type": "code",
   "execution_count": null,
   "id": "becc5466-e3ff-4a56-94c7-81e739d7d0ca",
   "metadata": {},
   "outputs": [],
   "source": [
    "print(\"\\nCorrelation Between Rating and Revenue\")\n",
    "df[['Rating', 'Revenue (Millions)']].corr()"
   ]
  },
  {
   "cell_type": "code",
   "execution_count": null,
   "id": "32ad192c-a9cd-477a-94fb-4ae12c417da6",
   "metadata": {},
   "outputs": [],
   "source": [
    "plt.figure(figsize=(10, 6))\n",
    "sns.scatterplot(x='Rating', y='Revenue (Millions)', data=df)\n",
    "plt.title('Rating vs Revenue')\n",
    "plt.xlabel('Rating')\n",
    "plt.ylabel('Revenue (Millions)')\n",
    "plt.show()"
   ]
  },
  {
   "cell_type": "code",
   "execution_count": null,
   "id": "b94a7326-3417-49ad-89db-3761d433a65f",
   "metadata": {},
   "outputs": [],
   "source": [
    "def classify_rating(rating):\n",
    "    if rating >= 8.0:\n",
    "        return 'Excellent'\n",
    "    elif rating >= 5.0:\n",
    "        return 'Good'\n",
    "    else:\n",
    "        return 'Average'\n",
    "\n",
    "df['rating_category'] = df['Rating'].apply(classify_rating)\n",
    "print(\"\\nClassification of Movies Based on Ratings\")\n",
    "df['rating_category'].value_counts()"
   ]
  },
  {
   "cell_type": "code",
   "execution_count": null,
   "id": "0e0956e8-9b28-41b0-8acc-a3fbcbc2683b",
   "metadata": {},
   "outputs": [],
   "source": [
    "plt.figure(figsize=(10, 6))\n",
    "sns.countplot(x='rating_category', data=df)\n",
    "plt.title('Classification of Movies Based on Ratings')\n",
    "plt.xlabel('Rating Category')\n",
    "plt.ylabel('Number of Movies')\n",
    "plt.show()"
   ]
  },
  {
   "cell_type": "code",
   "execution_count": null,
   "id": "adbfde32-93a4-4635-98dc-d064bf602c67",
   "metadata": {},
   "outputs": [],
   "source": [
    "print(\"\\nNumber of Films of Each Genre\")\n",
    "df['Genre'].value_counts()"
   ]
  }
 ],
 "metadata": {
  "kernelspec": {
   "display_name": "Python 3 (ipykernel)",
   "language": "python",
   "name": "python3"
  },
  "language_info": {
   "codemirror_mode": {
    "name": "ipython",
    "version": 3
   },
   "file_extension": ".py",
   "mimetype": "text/x-python",
   "name": "python",
   "nbconvert_exporter": "python",
   "pygments_lexer": "ipython3",
   "version": "3.12.3"
  }
 },
 "nbformat": 4,
 "nbformat_minor": 5
}
